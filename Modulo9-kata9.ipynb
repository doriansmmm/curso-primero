{
 "cells": [
  {
   "cell_type": "markdown",
   "metadata": {},
   "source": [
    "# ejercicio 1"
   ]
  },
  {
   "cell_type": "code",
   "execution_count": 7,
   "metadata": {},
   "outputs": [],
   "source": [
    "def generate_report(tanque1, tanque2, tanque3):\n",
    "    return f\"\"\"Reporte:\n",
    "    \n",
    "    Tanque1: {tanque1}%\n",
    "    Tanque2: {tanque2}%\n",
    "    Tanque3: {tanque3}% \n",
    "    \"\"\""
   ]
  },
  {
   "cell_type": "code",
   "execution_count": 8,
   "metadata": {},
   "outputs": [
    {
     "name": "stdout",
     "output_type": "stream",
     "text": [
      "Reporte:\n",
      "    \n",
      "    Tanque1: 10%\n",
      "    Tanque2: 20%\n",
      "    Tanque3: 10% \n",
      "    \n"
     ]
    }
   ],
   "source": [
    "print(generate_report(10,20,10))"
   ]
  },
  {
   "cell_type": "code",
   "execution_count": 9,
   "metadata": {},
   "outputs": [],
   "source": [
    "def generate_report_actualizado(tanque1, tanque2, tanque3):\n",
    "    total_average = (tanque1 + tanque2 + tanque3) / 3\n",
    "    return f\"\"\"Reporte:\n",
    "    Promedio: {total_average}%\n",
    "    Tanque 1: {tanque1}%\n",
    "    Tanque 2 : {tanque2}%\n",
    "    Tanque 3 : {tanque3}% \n",
    "    \"\"\""
   ]
  },
  {
   "cell_type": "code",
   "execution_count": 10,
   "metadata": {},
   "outputs": [
    {
     "name": "stdout",
     "output_type": "stream",
     "text": [
      "Reporte:\n",
      "    Promedio: 9.333333333333334%\n",
      "    Tanque 1: 10%\n",
      "    Tanque 2 : 10%\n",
      "    Tanque 3 : 8% \n",
      "    \n"
     ]
    }
   ],
   "source": [
    "print(generate_report_actualizado(10,10,8))"
   ]
  },
  {
   "cell_type": "markdown",
   "metadata": {},
   "source": [
    "# Ejercicio 2 \n"
   ]
  },
  {
   "cell_type": "code",
   "execution_count": 11,
   "metadata": {},
   "outputs": [
    {
     "name": "stdout",
     "output_type": "stream",
     "text": [
      "\n",
      "    La mission es en  Moon\n",
      "    Duracion del viaje: 65 minutes\n",
      "    total de combustibe: 500000 galones\n",
      "    \n"
     ]
    }
   ],
   "source": [
    "\n",
    "def informeMission(hora_prelanzamiento, tiempo_vuelo, destino, tanque_externo, tanquenterno):\n",
    "    return f\"\"\"\n",
    "    La mission es en  { destino }\n",
    "    Duracion del viaje: { hora_prelanzamiento + tiempo_vuelo} minutes\n",
    "    total de combustibe: {tanque_externo + tanquenterno} galones\n",
    "    \"\"\"\n",
    "\n",
    "print(informeMission(14, 51, \"Moon\", 200000, 300000))"
   ]
  },
  {
   "cell_type": "code",
   "execution_count": 13,
   "metadata": {},
   "outputs": [
    {
     "name": "stdout",
     "output_type": "stream",
     "text": [
      "\n",
      "    La mission es en  Moon\n",
      "    Duracion del viaje: 96 minutos\n",
      "    total de combustibe: 500000 galones\n",
      "    \n"
     ]
    }
   ],
   "source": [
    "def informeMissionActulizada( destino, *minutes, **reservaCombustible):\n",
    "    return f\"\"\"\n",
    "    La mission es en  { destino }\n",
    "    Duracion del viaje: { sum(minutes) } minutos\n",
    "    total de combustibe: {sum(reservaCombustible.values() )} galones\n",
    "    \"\"\"\n",
    "\n",
    "print(informeMissionActulizada(\"Moon\", 10,15,71,  tanqu1 = 200000, tanque2= 300000))"
   ]
  },
  {
   "cell_type": "code",
   "execution_count": 20,
   "metadata": {},
   "outputs": [
    {
     "name": "stdout",
     "output_type": "stream",
     "text": [
      "\n",
      "    La mission es en  Moon\n",
      "    Duracion del viaje: 96 minutos\n",
      "    total de combustibe: 500000 galones\n",
      "    Tanque: tanqu1 capacidad --> 200000 galones\n",
      "Tanque: tanque2 capacidad --> 300000 galones\n",
      "\n"
     ]
    }
   ],
   "source": [
    "def informeMissionActulizada_informacion_tanques( destino, *minutes, **reservaCombustible):\n",
    "    ac = f\"\"\"\n",
    "    La mission es en  { destino }\n",
    "    Duracion del viaje: { sum(minutes) } minutos\n",
    "    total de combustibe: {sum(reservaCombustible.values() )} galones\n",
    "    \"\"\"\n",
    "\n",
    "    for nombre_tanque, capacidad in reservaCombustible.items() :\n",
    "        ac += f\"Tanque: { nombre_tanque} capacidad --> { capacidad } galones\\n\"\n",
    "    \n",
    "    return ac\n",
    "\n",
    "print(informeMissionActulizada_informacion_tanques(\"Moon\", 10,15,71,  tanqu1=200000, tanque2=300000))"
   ]
  }
 ],
 "metadata": {
  "interpreter": {
   "hash": "2e5b5572fb71e631e06015711c1e6753996e78e7966fc5e76b0330130f45447a"
  },
  "kernelspec": {
   "display_name": "Python 3.10.2 64-bit (windows store)",
   "language": "python",
   "name": "python3"
  },
  "language_info": {
   "codemirror_mode": {
    "name": "ipython",
    "version": 3
   },
   "file_extension": ".py",
   "mimetype": "text/x-python",
   "name": "python",
   "nbconvert_exporter": "python",
   "pygments_lexer": "ipython3",
   "version": "3.10.2"
  },
  "orig_nbformat": 4
 },
 "nbformat": 4,
 "nbformat_minor": 2
}
