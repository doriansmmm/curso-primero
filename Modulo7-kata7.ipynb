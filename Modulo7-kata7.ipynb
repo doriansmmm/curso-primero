{
 "cells": [
  {
   "cell_type": "markdown",
   "metadata": {},
   "source": [
    "# ejercicio 1"
   ]
  },
  {
   "cell_type": "code",
   "execution_count": 1,
   "metadata": {},
   "outputs": [
    {
     "name": "stdout",
     "output_type": "stream",
     "text": [
      "e\n",
      "c\n",
      "h\n",
      "o\n"
     ]
    }
   ],
   "source": [
    "nuevo_planeta= \"\"\n",
    "planetas = []\n",
    "\n",
    "while  nuevo_planeta != \"echo\" :\n",
    "    if nuevo_planeta:\n",
    "        planetas.append( nuevo_planeta )\n",
    "    nuevo_planeta = input(\"Ingrese el nombre del planeta \")\n",
    "\n",
    "for planeta in planetas:\n",
    "    print(planeta)\n",
    "\n"
   ]
  }
 ],
 "metadata": {
  "interpreter": {
   "hash": "2e5b5572fb71e631e06015711c1e6753996e78e7966fc5e76b0330130f45447a"
  },
  "kernelspec": {
   "display_name": "Python 3.10.2 64-bit (windows store)",
   "language": "python",
   "name": "python3"
  },
  "language_info": {
   "codemirror_mode": {
    "name": "ipython",
    "version": 3
   },
   "file_extension": ".py",
   "mimetype": "text/x-python",
   "name": "python",
   "nbconvert_exporter": "python",
   "pygments_lexer": "ipython3",
   "version": "3.10.2"
  },
  "orig_nbformat": 4
 },
 "nbformat": 4,
 "nbformat_minor": 2
}
